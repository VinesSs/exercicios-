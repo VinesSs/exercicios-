{
 "cells": [
  {
   "cell_type": "code",
   "execution_count": 9,
   "id": "ded023c3-24da-4423-9e5f-664aa1dd5710",
   "metadata": {},
   "outputs": [
    {
     "name": "stdout",
     "output_type": "stream",
     "text": [
      "Preço mínimo de um carro em 2023: 1871.0\n",
      "Preço máximo de um carro em 2023: 8228142.0\n",
      "Carros entre R$ 5.000,00 e R$ 7.000,00:\n",
      "                  marca                                    modelo  anoModelo  \\\n",
      "2102         Alfa Romeo                              2300 TI/TI-4       1986   \n",
      "2204         Alfa Romeo                              2300 TI/TI-4       1986   \n",
      "2884         Alfa Romeo                              2300 TI/TI-4       1986   \n",
      "3298         Alfa Romeo                              2300 TI/TI-4       1986   \n",
      "4444         Alfa Romeo                              2300 TI/TI-4       1986   \n",
      "...                 ...                                       ...        ...   \n",
      "464388  VW - VolksWagen                         Pointer 1.8 / CLi       1996   \n",
      "464471  VW - VolksWagen                     Logus GLSi / GLS 2000       1995   \n",
      "464843  VW - VolksWagen  Passat  L/LS/LSe/GL/GLS/TS/Fla/Vill/Plus       1989   \n",
      "464869  VW - VolksWagen                         Gol Furgao 1.0 mi       1998   \n",
      "465483  VW - VolksWagen                         Gol Furgao 1.0 mi       1998   \n",
      "\n",
      "         valor  \n",
      "2102    6881.0  \n",
      "2204    6910.0  \n",
      "2884    6827.0  \n",
      "3298    6863.0  \n",
      "4444    6845.0  \n",
      "...        ...  \n",
      "464388  5924.0  \n",
      "464471  6784.0  \n",
      "464843  5113.0  \n",
      "464869  6298.0  \n",
      "465483  6241.0  \n",
      "\n",
      "[1190 rows x 4 columns]\n"
     ]
    }
   ],
   "source": [
    "import pandas as pd\n",
    "\n",
    "# Carregando a planilha enviada pelo usuário\n",
    "file_path = '/home/vine/exercicios-/tabela-fipe-historico-precos.csv'\n",
    "df = pd.read_csv(file_path, encoding='latin1')\n",
    "\n",
    "# Filtrando os dados para o ano de 2023\n",
    "df_2023 = df[df['anoReferencia'] == 2021]\n",
    "\n",
    "# 1. Preço mínimo de um carro em 2023\n",
    "preco_minimo = df_2023['valor'].min()\n",
    "\n",
    "# 2. Preço máximo de um carro em 2023\n",
    "preco_maximo = df_2023['valor'].max()\n",
    "\n",
    "# 3. Carros que podem ser comprados com valores entre R$ 5.000,00 e R$ 7.000,00\n",
    "carros_5000_7000 = df_2023[(df_2023['valor'] >= 5000) & (df_2023['valor'] <= 7000)]\n",
    "\n",
    "print(\"Preço mínimo de um carro em 2023:\", preco_minimo)\n",
    "print(\"Preço máximo de um carro em 2023:\", preco_maximo)\n",
    "print(\"Carros entre R$ 5.000,00 e R$ 7.000,00:\")\n",
    "print(carros_5000_7000[['marca', 'modelo', 'anoModelo', 'valor']])"
   ]
  },
  {
   "cell_type": "code",
   "execution_count": null,
   "id": "f64163cc-2236-42d2-a03f-3d62d8d58bf9",
   "metadata": {},
   "outputs": [],
   "source": []
  }
 ],
 "metadata": {
  "kernelspec": {
   "display_name": "Python 3 (ipykernel)",
   "language": "python",
   "name": "python3"
  },
  "language_info": {
   "codemirror_mode": {
    "name": "ipython",
    "version": 3
   },
   "file_extension": ".py",
   "mimetype": "text/x-python",
   "name": "python",
   "nbconvert_exporter": "python",
   "pygments_lexer": "ipython3",
   "version": "3.11.2"
  }
 },
 "nbformat": 4,
 "nbformat_minor": 5
}
