{
 "cells": [
  {
   "cell_type": "code",
   "execution_count": 15,
   "id": "80c46763-210b-41f7-9f30-3ea68ca2fa72",
   "metadata": {},
   "outputs": [],
   "source": [
    "def valor_maca():\n",
    "    print('Maçã - R$1.00')"
   ]
  },
  {
   "cell_type": "code",
   "execution_count": 16,
   "id": "d75bf513-ee40-47b2-abd9-2c2bb73633d7",
   "metadata": {},
   "outputs": [],
   "source": [
    "def valor_banana():\n",
    "    print('Banana - R$0.50')"
   ]
  },
  {
   "cell_type": "code",
   "execution_count": 17,
   "id": "6bca5326-d0d7-4e8f-b8f0-f2762b3ae963",
   "metadata": {},
   "outputs": [],
   "source": [
    "def valor_laranja():\n",
    "    print('Laranja - R$0.75')"
   ]
  },
  {
   "cell_type": "code",
   "execution_count": 18,
   "id": "5b41d54f-bdc1-49e6-b9b1-3d580c78b2af",
   "metadata": {},
   "outputs": [],
   "source": [
    "def valor_uva():\n",
    "    print('Uva - R$2.00')"
   ]
  },
  {
   "cell_type": "code",
   "execution_count": 19,
   "id": "4f384fd3-305f-43f0-9434-d3df912b8520",
   "metadata": {},
   "outputs": [],
   "source": [
    "def valor_pera():\n",
    "    print('Pêra - R$1.50')\n"
   ]
  },
  {
   "cell_type": "code",
   "execution_count": 20,
   "id": "d1048fd6-2a91-489c-a63e-19e3e84de7cd",
   "metadata": {},
   "outputs": [],
   "source": [
    "def main() :\n",
    "    while True: \n",
    "        print('Opções: ')\n",
    "        print('[1]Banana')\n",
    "        print('[2]Laranja')\n",
    "        print('[3]Maça')\n",
    "        print('[4]pêra')\n",
    "        print('[5]Uva')\n",
    "        print('[6]Encerrar Programa')"
   ]
  },
  {
   "cell_type": "code",
   "execution_count": null,
   "id": "05ea015f-0f8c-42ce-b8be-56b9dd7407eb",
   "metadata": {},
   "outputs": [],
   "source": [
    "resp = int(input('Sua Opção '))"
   ]
  },
  {
   "cell_type": "code",
   "execution_count": null,
   "id": "6d6ad4b8-854a-49ae-92a0-a07a0d65f7f8",
   "metadata": {},
   "outputs": [],
   "source": [
    "if resp == 1:\n",
    "            valor_maca()"
   ]
  },
  {
   "cell_type": "code",
   "execution_count": null,
   "id": "fb8e3509-3e02-4c7f-83a7-b4778cfe15d5",
   "metadata": {},
   "outputs": [],
   "source": [
    " valor_banana()\n",
    "        elif resp == 2:"
   ]
  },
  {
   "cell_type": "code",
   "execution_count": null,
   "id": "073806c7-0641-424f-998e-2068825f841e",
   "metadata": {},
   "outputs": [],
   "source": [
    "valor_laranja()\n",
    "        elif resp == 3:"
   ]
  },
  {
   "cell_type": "code",
   "execution_count": null,
   "id": "f24a2c96-ed10-403a-af62-3d14449de9ef",
   "metadata": {},
   "outputs": [],
   "source": [
    "valor_maça()\n",
    "        elif resp == 4:"
   ]
  },
  {
   "cell_type": "code",
   "execution_count": null,
   "id": "d1858445-05da-4802-ac07-a43ebab6726c",
   "metadata": {},
   "outputs": [],
   "source": [
    "valor_pera()\n",
    "        elif resp == 5:"
   ]
  },
  {
   "cell_type": "code",
   "execution_count": null,
   "id": "c6203ef4-dff4-4c59-bcaf-319fd281a525",
   "metadata": {},
   "outputs": [],
   "source": [
    "valor_uva()\n",
    "        elif resp == 6:"
   ]
  },
  {
   "cell_type": "code",
   "execution_count": null,
   "id": "2eaf4392-0374-4a51-9d24-c84dd18d5998",
   "metadata": {},
   "outputs": [],
   "source": [
    "break\n",
    "        else:\n",
    "            print('Opção Inválida')\n",
    "        main()"
   ]
  },
  {
   "cell_type": "code",
   "execution_count": null,
   "id": "76f97923-3b9c-49e9-a264-ecb15d008377",
   "metadata": {},
   "outputs": [],
   "source": [
    "main()Opções: \n",
    "[1]Banana\n",
    "[2]Laranja\n",
    "[3]Maçã\n",
    "[4]Pêra\n",
    "[5]Uva\n",
    "[6]Encerrar Programa\n"
   ]
  }
 ],
 "metadata": {
  "kernelspec": {
   "display_name": "Python 3 (ipykernel)",
   "language": "python",
   "name": "python3"
  },
  "language_info": {
   "codemirror_mode": {
    "name": "ipython",
    "version": 3
   },
   "file_extension": ".py",
   "mimetype": "text/x-python",
   "name": "python",
   "nbconvert_exporter": "python",
   "pygments_lexer": "ipython3",
   "version": "3.11.2"
  }
 },
 "nbformat": 4,
 "nbformat_minor": 5
}
