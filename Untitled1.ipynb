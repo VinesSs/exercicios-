{
 "cells": [
  {
   "cell_type": "code",
   "execution_count": null,
   "id": "af39991f-9846-4233-ae51-25f479708c29",
   "metadata": {},
   "outputs": [
    {
     "name": "stdout",
     "output_type": "stream",
     "text": [
      "Opções: \n",
      "[1]Maçã\n",
      "[2]Banana\n",
      "[3]Laranja\n",
      "[4]Uva\n",
      "[5]Pêra\n",
      "[6]Encerrar Programa\n"
     ]
    },
    {
     "name": "stdin",
     "output_type": "stream",
     "text": [
      "Sua Opção  1\n"
     ]
    },
    {
     "name": "stdout",
     "output_type": "stream",
     "text": [
      "Maçã - R$1.00\n",
      "Opções: \n",
      "[1]Maçã\n",
      "[2]Banana\n",
      "[3]Laranja\n",
      "[4]Uva\n",
      "[5]Pêra\n",
      "[6]Encerrar Programa\n"
     ]
    },
    {
     "name": "stdin",
     "output_type": "stream",
     "text": [
      "Sua Opção  2\n"
     ]
    },
    {
     "name": "stdout",
     "output_type": "stream",
     "text": [
      "Banana - R$0.50\n",
      "Opções: \n",
      "[1]Maçã\n",
      "[2]Banana\n",
      "[3]Laranja\n",
      "[4]Uva\n",
      "[5]Pêra\n",
      "[6]Encerrar Programa\n"
     ]
    },
    {
     "name": "stdin",
     "output_type": "stream",
     "text": [
      "Sua Opção  3\n"
     ]
    },
    {
     "name": "stdout",
     "output_type": "stream",
     "text": [
      "Laranja - R$0.75\n",
      "Opções: \n",
      "[1]Maçã\n",
      "[2]Banana\n",
      "[3]Laranja\n",
      "[4]Uva\n",
      "[5]Pêra\n",
      "[6]Encerrar Programa\n"
     ]
    },
    {
     "name": "stdin",
     "output_type": "stream",
     "text": [
      "Sua Opção  4\n"
     ]
    },
    {
     "name": "stdout",
     "output_type": "stream",
     "text": [
      "Uva - R$2.00\n",
      "Opções: \n",
      "[1]Maçã\n",
      "[2]Banana\n",
      "[3]Laranja\n",
      "[4]Uva\n",
      "[5]Pêra\n",
      "[6]Encerrar Programa\n"
     ]
    },
    {
     "name": "stdin",
     "output_type": "stream",
     "text": [
      "Sua Opção  5\n"
     ]
    },
    {
     "name": "stdout",
     "output_type": "stream",
     "text": [
      "Pêra - R$1.50\n",
      "Opções: \n",
      "[1]Maçã\n",
      "[2]Banana\n",
      "[3]Laranja\n",
      "[4]Uva\n",
      "[5]Pêra\n",
      "[6]Encerrar Programa\n"
     ]
    }
   ],
   "source": [
    "def valor_maca():\n",
    "    print('Banana - R$0.50')\n",
    "\n",
    "def valor_banana():\n",
    "    print('laranja - R$0.75')\n",
    "    \n",
    "def valor_laranja():\n",
    "    print('Maçã - R$1.00')\n",
    "\n",
    "def valor_uva():\n",
    "    print('Pêra - R$1.50')\n",
    "\n",
    "def valor_pera():\n",
    "    print('Uva - R$2.00')\n",
    "\n",
    "def main() :\n",
    "    while True:\n",
    "        print('Opções: ')\n",
    "        print('[1]Banana')\n",
    "        print('[2]Laranja')\n",
    "        print('[3]Maçã')\n",
    "        print('[4]Pêra')\n",
    "        print('[5]Uva')\n",
    "        print('[6]Encerrar Programa')\n",
    "\n",
    "        resp = int(input('Sua Opção '))\n",
    "        if resp == 1:\n",
    "            valor_banana()\n",
    "        elif resp == 2:\n",
    "            valor_laranja()\n",
    "        elif resp == 3:\n",
    "            valor_maça()\n",
    "        elif resp == 4:\n",
    "            valor_pera()\n",
    "        elif resp == 5:\n",
    "            valor_uva()\n",
    "        elif resp == 6:\n",
    "            break\n",
    "        else:\n",
    "            print('Opção Inválida')\n",
    "        main()\n",
    "\n",
    "main()"
   ]
  }
 ],
 "metadata": {
  "kernelspec": {
   "display_name": "Python 3 (ipykernel)",
   "language": "python",
   "name": "python3"
  },
  "language_info": {
   "codemirror_mode": {
    "name": "ipython",
    "version": 3
   },
   "file_extension": ".py",
   "mimetype": "text/x-python",
   "name": "python",
   "nbconvert_exporter": "python",
   "pygments_lexer": "ipython3",
   "version": "3.11.2"
  }
 },
 "nbformat": 4,
 "nbformat_minor": 5
}
