{
 "cells": [
  {
   "cell_type": "code",
   "execution_count": null,
   "id": "13958edb-23f5-4fa9-a790-fb3cf08f9aa5",
   "metadata": {},
   "outputs": [],
   "source": [
    "import folium\n",
    "\n",
    "# Coordenadas da capital do Kuwait (Kuwait City)\n",
    "latitude = 29.3759\n",
    "longitude = 47.9774\n",
    "\n",
    "# Cria um mapa centralizado em Kuwait City\n",
    "mapa = folium.Map(location=[latitude, longitude], zoom_start=12)\n",
    "\n",
    "# Adiciona um marcador para Kuwait City\n",
    "folium.Marker(\n",
    "    location=[latitude, longitude],\n",
    "    popup='Kuwait City',\n",
    "    icon=folium.Icon(color='blue', icon='info-sign')\n",
    ").add_to(mapa)\n",
    "\n",
    "# Salva o mapa em um arquivo HTML\n",
    "mapa.save('mapa_kuwait.html')\n",
    "\n",
    "print(\"Mapa criado com sucesso e salvo como 'mapa_kuwait.html'.\")"
   ]
  },
  {
   "cell_type": "code",
   "execution_count": null,
   "id": "16f21bfd-e7e1-45ea-bdce-ce050126c35d",
   "metadata": {},
   "outputs": [],
   "source": []
  }
 ],
 "metadata": {
  "kernelspec": {
   "display_name": "Python 3 (ipykernel)",
   "language": "python",
   "name": "python3"
  },
  "language_info": {
   "codemirror_mode": {
    "name": "ipython",
    "version": 3
   },
   "file_extension": ".py",
   "mimetype": "text/x-python",
   "name": "python",
   "nbconvert_exporter": "python",
   "pygments_lexer": "ipython3",
   "version": "3.11.2"
  }
 },
 "nbformat": 4,
 "nbformat_minor": 5
}
